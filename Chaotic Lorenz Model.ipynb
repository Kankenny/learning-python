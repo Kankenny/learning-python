{
 "cells": [
  {
   "cell_type": "markdown",
   "id": "a74d909b",
   "metadata": {},
   "source": [
    "# Chaotic Lorenz Model Instructions"
   ]
  },
  {
   "cell_type": "markdown",
   "id": "4d6cdd3a",
   "metadata": {},
   "source": [
    "1) Create a definition of this function:\n",
    "dx/dt = s*(y - x)\n",
    "dy/dt = r*x - y - x*z\n",
    "dz/dt = x*y - b*z\n",
    "dt/dt = 1.  (as with the example we went over today).\n",
    "where s=10., r=28., and b=2.667.\n",
    "\n",
    "Start with the initialConditions array for [x, y, z, t] = [0.0, 0.1, 1.05, 0.0].  (This is the set of values at the start -- the beginning of integration.)\n",
    "\n",
    "Use a step size of 0.01, and integrate over 50 steps.\n",
    "\n",
    "So, this is aimed to get you used to giving odeint all the information it needs to integrate these equations: initial conditions, values of parameters, step size to use, and how many steps to take.  It's a lot.  Take your time.  Don't hurry.\n",
    "\n",
    "2) Then plot: (x,t), (y,t), and (z,t).\n",
    "\n",
    "3) Finally, try a 3-dimensional plot of (x,y,z.)\n",
    "\n"
   ]
  },
  {
   "cell_type": "markdown",
   "id": "8fe91bfd",
   "metadata": {},
   "source": [
    "### Libraries and Packages:"
   ]
  },
  {
   "cell_type": "code",
   "execution_count": 11,
   "id": "0c8def12",
   "metadata": {},
   "outputs": [],
   "source": [
    "import scipy as sp\n",
    "import numpy as np\n",
    "from scipy.integrate import odeint\n",
    "import matplotlib.pyplot as plt\n",
    "import matplotlib\n",
    "\n",
    "%matplotlib inline\n"
   ]
  },
  {
   "cell_type": "markdown",
   "id": "5f2a9000",
   "metadata": {},
   "source": [
    "### Array Definitions:\n",
    "- start value: 0\n",
    "- end value: 50\n",
    "- step value: 0.01"
   ]
  },
  {
   "cell_type": "code",
   "execution_count": 30,
   "id": "4e1fedb3",
   "metadata": {},
   "outputs": [],
   "source": [
    "start = 0.\n",
    "end = 50.\n",
    "step = .01\n",
    "\n",
    "times = np.arange(start,end,step)\n",
    "[x, y, z, t] = [0.0, 0.1, 1.05, 0.0]"
   ]
  },
  {
   "cell_type": "markdown",
   "id": "637f040d",
   "metadata": {},
   "source": [
    "### Equation Definitions:"
   ]
  },
  {
   "cell_type": "code",
   "execution_count": 12,
   "id": "bb7deaee",
   "metadata": {},
   "outputs": [],
   "source": [
    "def equations():\n",
    "    s, r, b = 10., 28., 2.667\n",
    "    \n",
    "    dxdt = s*(y - x)\n",
    "    dydt = r*x - y - x*z\n",
    "    dzdt = x*y - b*z\n",
    "    dtdt = 1.\n",
    "     \n",
    "    return dxdt, dydt, dzdt, dtdt\n",
    "\n",
    "\n",
    "initialConditions = [x[0],times[0]]\n",
    "\n",
    "\n",
    "integratedEquations = odeint(equations, initialConditions, times)"
   ]
  },
  {
   "cell_type": "code",
   "execution_count": 19,
   "id": "14a8246f",
   "metadata": {},
   "outputs": [
    {
     "name": "stdout",
     "output_type": "stream",
     "text": [
      "hello\n"
     ]
    }
   ],
   "source": [
    "def chaoticLorenzModel():\n",
    "    print('hello')\n",
    "    \n",
    "    \n",
    "    "
   ]
  },
  {
   "cell_type": "code",
   "execution_count": null,
   "id": "18df4c11",
   "metadata": {},
   "outputs": [],
   "source": []
  }
 ],
 "metadata": {
  "kernelspec": {
   "display_name": "Python 3 (ipykernel)",
   "language": "python",
   "name": "python3"
  },
  "language_info": {
   "codemirror_mode": {
    "name": "ipython",
    "version": 3
   },
   "file_extension": ".py",
   "mimetype": "text/x-python",
   "name": "python",
   "nbconvert_exporter": "python",
   "pygments_lexer": "ipython3",
   "version": "3.9.12"
  }
 },
 "nbformat": 4,
 "nbformat_minor": 5
}
