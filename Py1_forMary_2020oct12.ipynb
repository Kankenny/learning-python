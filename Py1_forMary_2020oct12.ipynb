{
 "cells": [
  {
   "cell_type": "markdown",
   "metadata": {},
   "source": [
    "### The aim of this code is to get your feet wet with defining functions in Python, using Python's integrator, and plotting.  \n",
    "\n",
    "There are three main steps here, written in big black font.  Within each step, red notes inside triple quotes (''' ''') are explanations, and there are also comments (preceded by a # sign and in blue).  A comment is a note/reminder to yourself; it is not read in as code.\n",
    "\n",
    "TO RUN: \n",
    "Activate each cell sequentially: left-click the cell and then hit control-enter.  While a cell is running, the little hollow circle in the top right corner next to \"Python 3\" will fill in solid black.  Leave the cell alone while it is running - that is, until the circle changes back from solid to hollow.\n",
    "\n",
    "TO DO: \n",
    "1. Write a short description of what you think each cell is doing.  \n",
    "2. Write down any questions.\n",
    "(Also, feel free to play around and experiment as much as you like, and see what happens.\n",
    "\n",
    "HINTS:\n",
    "1. The 'print' command is extremely useful.  Stick them in anywhere, to understand what you have created. I've stuck a bunch in as examples.  \n",
    "2. When you run the cells, don't worry about 'warning' outputs highlighted in pink.  If there really is an error and failure to run, an error message will appear below the cell."
   ]
  },
  {
   "cell_type": "markdown",
   "metadata": {},
   "source": [
    "### 1. Import packages that you will need from Python, and define a label for saving output."
   ]
  },
  {
   "cell_type": "code",
   "execution_count": null,
   "metadata": {},
   "outputs": [],
   "source": [
    "import scipy as sp\n",
    "import numpy as np\n",
    "from scipy.integrate import odeint\n",
    "import matplotlib.pyplot as plt\n",
    "import matplotlib\n",
    "\n",
    "%matplotlib inline   # This command tells matplotlib to plot directly on the screen."
   ]
  },
  {
   "cell_type": "code",
   "execution_count": 3,
   "metadata": {},
   "outputs": [],
   "source": [
    "label_for_saving = 'trial1'  # This is a label for file-saving.  In case you want to save multiple files \n",
    "                             # without over-writing previous trials, just keep changing this name ('sina2', 'sina3', etc). \n",
    "                             # It will automatically change the output of all 'save' commands below.  "
   ]
  },
  {
   "cell_type": "markdown",
   "metadata": {},
   "source": [
    "### 2. Let's define a range of times $t$ and a function $x(t)$ that evolves according to those times.  The function is: $x(t) = \\frac{t^3}{3} - 4t^2 + t$.  We'll plot that function."
   ]
  },
  {
   "cell_type": "code",
   "execution_count": 4,
   "metadata": {},
   "outputs": [
    {
     "name": "stdout",
     "output_type": "stream",
     "text": [
      "First 3 times are: [-100.  -99.  -98.]\n",
      "times is of type: <class 'numpy.ndarray'>\n"
     ]
    }
   ],
   "source": [
    "'''i) Define start-and-end times and the step size of an array:'''\n",
    "start = -100.\n",
    "end = 100.\n",
    "step = 1.\n",
    "\n",
    "\n",
    "'''ii) Define the array of times:'''\n",
    "times = np.arange(start,end,step) # This command defines a one-dimensional array of numbers, using the package numpy, \n",
    "                                  # abbreviated here as \"np\".  The array begins from your \"start\"\n",
    "                                  # (defined above as -100) and ends at \"end\" (defined above as 100.), with the step size \n",
    "                                  # defined above as 1. Note: You need to define terms like \"start\" and \"end\" before you\n",
    "                                  # then use them in a command.\n",
    "print('First 3 times are:', times[0:3])  # Print commands output information to the screen. They're really useful when\n",
    "                                            # you get confused and aren't sure what it is you've done. \n",
    "print('times is of type:', type(times))  # This command shows you what \"type\" of data your array \"times\" is: it is an \n",
    "                                         # array, defined as such by the package numpy, which is the package from which you\n",
    "                                         # imported it.\n",
    "#print('This print command is commented-out.')"
   ]
  },
  {
   "cell_type": "code",
   "execution_count": 5,
   "metadata": {},
   "outputs": [
    {
     "name": "stdout",
     "output_type": "stream",
     "text": [
      "print anything\n"
     ]
    }
   ],
   "source": [
    "'''Before we continue, try writing your own print command here.  Just change the red type from 'print anything'\n",
    "to whatever you'd like it to be, then hit control-enter.  See your own text appear below this cell.'''\n",
    "\n",
    "print('print anything')"
   ]
  },
  {
   "cell_type": "code",
   "execution_count": 6,
   "metadata": {},
   "outputs": [
    {
     "name": "stdout",
     "output_type": "stream",
     "text": [
      "5.0\n"
     ]
    }
   ],
   "source": [
    "'''And one more thing before we continue.  Try doing a simple bit of algebra, by first defining quantities a and b.\n",
    "Try replacing the values of a and b below with any other numbers, and hit control-enter to see the resulting\n",
    "calculation change.  Also try changing the calculation - say, from addition to multiplication - and see the calculation \n",
    "change.'''\n",
    "\n",
    "a = 2.  # First define a and b.\n",
    "b = 3.  \n",
    "c = a+b # Then c.\n",
    "print(c)"
   ]
  },
  {
   "cell_type": "code",
   "execution_count": 7,
   "metadata": {},
   "outputs": [
    {
     "name": "stdout",
     "output_type": "stream",
     "text": [
      "First 3 values of x are: [-373433.33333333 -362736.         -352244.66666667]\n",
      "x is of type: <class 'numpy.ndarray'>\n",
      "length of x is: 200\n"
     ]
    }
   ],
   "source": [
    "'''iii) Continuing now with our example: Define x as a specific function of the times that were defined above:'''\n",
    "P = 4.   # Parameters will become important later; don't worry about them for now.\n",
    "x = (times**3.)/3. - P *times**2 + times\n",
    "\n",
    "print('First 3 values of x are:', x[0:3])\n",
    "print('x is of type:', type(x))\n",
    "print('length of x is:', len(x))  # prints the number of values in the x array. -100 to 100 in increments of 1, so this value should be 200.\n"
   ]
  },
  {
   "cell_type": "code",
   "execution_count": 8,
   "metadata": {},
   "outputs": [
    {
     "name": "stdout",
     "output_type": "stream",
     "text": [
      "Initial values of x and t are: [-373433.3333333333, -100.0]\n"
     ]
    },
    {
     "data": {
      "image/png": "[encoded data removed]",
      "text/plain": [
       "<Figure size 432x288 with 1 Axes>"
      ]
     },
     "metadata": {
      "needs_background": "light"
     },
     "output_type": "display_data"
    }
   ],
   "source": [
    "'''iv) We have now defined x and t to be the state variables of our system.  \n",
    "We store the initial values, or \"initial conditions\" of these state variables:'''\n",
    "initialConditions = [x[0],times[0]]\n",
    "print('Initial values of x and t are:', initialConditions)\n",
    "\n",
    "'''v) Now we plot the evolution of the system over the specified range of times:'''\n",
    "alpha = 0.2  # Opacity of the color; 1=full solid\n",
    "z = x\n",
    "fig0 = plt.figure(0)\n",
    "plt.subplot(111)\n",
    "plt.xlabel('time')\n",
    "plt.ylabel('x')\n",
    "plt.plot(times,z,'m',label='cat',alpha=alpha)\n",
    "plt.plot(times,x,'b',label='x versus time',alpha=alpha)\n",
    "plt.legend()\n",
    "plt.show()\n",
    "\n",
    "'''vi) Save the plot:'''\n",
    "fig0.savefig('x_versus_time_original_%s.png' % label_for_saving)\n",
    "\n",
    "'''vii) Save the x and t data, each as a one-column text file of numbers:'''\n",
    "np.savetxt('times.txt', times)\n",
    "np.savetxt('x.txt', x)"
   ]
  },
  {
   "cell_type": "markdown",
   "metadata": {},
   "source": [
    "### 3. But now, as an alternative to plotting the function $x(t)$ explicitly, imagine that we do not know what that function $x(t)$ is, and we want to figure that out.  And imagine that luckily, we do know its derivative: $\\frac{dx}{dt}$.  So, to infer $x(t)$, let us take that derivative and integrate.  The derivative of $x(t)$ above is: $\\frac{dx}{dt} = t^2 - 2*4t + 1$.\n",
    "\n",
    "### We should obtain the same result as above.\n"
   ]
  },
  {
   "cell_type": "code",
   "execution_count": 12,
   "metadata": {},
   "outputs": [
    {
     "name": "stdout",
     "output_type": "stream",
     "text": [
      "sim is of type: <class 'numpy.ndarray'>\n",
      "shape of sim: (200, 2)\n"
     ]
    },
    {
     "name": "stderr",
     "output_type": "stream",
     "text": [
      "<ipython-input-12-6d916c49145c>:20: DeprecationWarning: scipy.column_stack is deprecated and will be removed in SciPy 2.0.0, use numpy.column_stack instead\n",
      "  sp.savetxt('simulation_%s.txt' % label_for_saving,sp.column_stack((times,sim)))\n",
      "<ipython-input-12-6d916c49145c>:20: DeprecationWarning: scipy.savetxt is deprecated and will be removed in SciPy 2.0.0, use numpy.savetxt instead\n",
      "  sp.savetxt('simulation_%s.txt' % label_for_saving,sp.column_stack((times,sim)))\n",
      "<ipython-input-12-6d916c49145c>:21: DeprecationWarning: scipy.savetxt is deprecated and will be removed in SciPy 2.0.0, use numpy.savetxt instead\n",
      "  sp.savetxt('times_%s.txt' % label_for_saving, times)\n",
      "<ipython-input-12-6d916c49145c>:22: DeprecationWarning: scipy.savetxt is deprecated and will be removed in SciPy 2.0.0, use numpy.savetxt instead\n",
      "  sp.savetxt('x_%s.txt' % label_for_saving, sim[:,0])\n"
     ]
    },
    {
     "data": {
      "image/png": "[encoded data removed]",
      "text/plain": [
       "<Figure size 432x288 with 1 Axes>"
      ]
     },
     "metadata": {
      "needs_background": "light"
     },
     "output_type": "display_data"
    }
   ],
   "source": [
    "'''i) Define our equations of motion:'''\n",
    "def equations(VARIABLES, t): \n",
    "    x,t = VARIABLES\n",
    "    \n",
    "    dxdt = t**2 - 2*P*t + 1.   # The derivative of the function x(t).\n",
    "    dtdt = 1.                          # This line means that time evolves linearly with time. Obvious\n",
    "                                       # to us humans, but Python must be told explicitly.\n",
    "    \n",
    "    return dxdt, dtdt\n",
    "\n",
    "sim = odeint(equations,initialConditions,times) # Python's \"odeint\" package is an integrator.  It will integrate \n",
    "                                                # forward these equations, given the \n",
    "                                                # initial conditions and the array of times.  \"sim\" will be the output:\n",
    "                                                # a 2-dimensional array with D rows and T columns, where D is the \n",
    "                                                # number of variables and T is the number of steps.\n",
    "print('sim is of type:', type(sim))\n",
    "print('shape of sim:', sim.shape)\n",
    "\n",
    "'''ii) Save text files of the output:'''\n",
    "sp.savetxt('simulation_%s.txt' % label_for_saving,sp.column_stack((times,sim)))\n",
    "sp.savetxt('times_%s.txt' % label_for_saving, times)\n",
    "sp.savetxt('x_%s.txt' % label_for_saving, sim[:,0])\n",
    "\n",
    "\n",
    "'''iii) Plot:'''\n",
    "fig1 = plt.figure(1)\n",
    "plt.subplot(111)\n",
    "plt.xlabel('time')\n",
    "plt.ylabel('x', fontsize=12)\n",
    "plt.plot(times,sim[:,0],'g',label='x as a function of time - via integration') \n",
    "plt.legend()\n",
    "plt.show()\n",
    "\n",
    "'''iv) Save the plot:'''\n",
    "fig1.savefig('x_versus_time_viaIntegration_%s.png' % label_for_saving) "
   ]
  },
  {
   "cell_type": "markdown",
   "metadata": {},
   "source": [
    "### Indeed, we have recovered the original function (compare this plot to the first plot, above).  So, this is a proof-of-principle that odeint will come in handy in the event that we seek some unknown function $x(t)$, where we know the form of its derivative."
   ]
  },
  {
   "cell_type": "markdown",
   "metadata": {},
   "source": [
    "### The next step will be: replacing our rather meaningless variable x with a quantity called \"neutrino flavor\".  That is, next time we will take a neutrino and integrate forward (or evolve forward) its flavor."
   ]
  }
 ],
 "metadata": {
  "kernelspec": {
   "display_name": "Python 3",
   "language": "python",
   "name": "python3"
  },
  "language_info": {
   "codemirror_mode": {
    "name": "ipython",
    "version": 3
   },
   "file_extension": ".py",
   "mimetype": "text/x-python",
   "name": "python",
   "nbconvert_exporter": "python",
   "pygments_lexer": "ipython3",
   "version": "3.8.8"
  }
 },
 "nbformat": 4,
 "nbformat_minor": 2
}
