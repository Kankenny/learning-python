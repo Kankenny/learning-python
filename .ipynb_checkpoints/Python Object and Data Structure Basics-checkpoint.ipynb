{
 "cells": [
  {
   "cell_type": "markdown",
   "id": "211eff5f",
   "metadata": {},
   "source": [
    "# Numbers"
   ]
  },
  {
   "cell_type": "markdown",
   "id": "86e0cae5",
   "metadata": {},
   "source": [
    "### Operators: { +, -, /, *, %, **, // }\n",
    "    - + : addition<br>\n",
    "    - -  : subtraction<br>\n",
    "    - /  : true division<br>\n",
    "    - *  : multiplication<br>\n",
    "    - %  : modulo<br>\n",
    "    - ** : power<br>\n",
    "    - // : int division<br>\n",
    "    "
   ]
  },
  {
   "cell_type": "code",
   "execution_count": 11,
   "id": "c4c7c31c",
   "metadata": {},
   "outputs": [
    {
     "name": "stdout",
     "output_type": "stream",
     "text": [
      "8\n"
     ]
    }
   ],
   "source": [
    "print(2 ** 3)"
   ]
  },
  {
   "cell_type": "code",
   "execution_count": 10,
   "id": "20debc35",
   "metadata": {},
   "outputs": [
    {
     "name": "stdout",
     "output_type": "stream",
     "text": [
      "0.5\n"
     ]
    }
   ],
   "source": [
    "print(1 / 2)"
   ]
  },
  {
   "cell_type": "code",
   "execution_count": 12,
   "id": "1264c85f",
   "metadata": {},
   "outputs": [
    {
     "name": "stdout",
     "output_type": "stream",
     "text": [
      "0\n"
     ]
    }
   ],
   "source": [
    "print(1 // 2)"
   ]
  },
  {
   "cell_type": "markdown",
   "id": "4bbc9a6c",
   "metadata": {},
   "source": [
    "### Variable Assignment"
   ]
  },
  {
   "cell_type": "code",
   "execution_count": 7,
   "id": "8e635fe0",
   "metadata": {},
   "outputs": [
    {
     "name": "stdout",
     "output_type": "stream",
     "text": [
      "{'Honey', 'Boobear'}\n",
      "<class 'set'>\n"
     ]
    }
   ],
   "source": [
    "myDogs = 2\n",
    "myDogs = {'Honey', 'Boobear'}\n",
    "print(myDogs)\n",
    "print(type(myDogs))"
   ]
  },
  {
   "cell_type": "markdown",
   "id": "1ce5fbde",
   "metadata": {},
   "source": [
    "### Strings"
   ]
  },
  {
   "cell_type": "code",
   "execution_count": 9,
   "id": "86cc5291",
   "metadata": {},
   "outputs": [
    {
     "name": "stdout",
     "output_type": "stream",
     "text": [
      "im a str\n"
     ]
    }
   ],
   "source": [
    "print('im a str')"
   ]
  },
  {
   "cell_type": "code",
   "execution_count": 13,
   "id": "a841ac47",
   "metadata": {},
   "outputs": [
    {
     "name": "stdout",
     "output_type": "stream",
     "text": [
      "13\n"
     ]
    }
   ],
   "source": [
    "myString = 'Honey Boobear'\n",
    "print(len(myString))"
   ]
  },
  {
   "cell_type": "code",
   "execution_count": 16,
   "id": "f872d394",
   "metadata": {},
   "outputs": [
    {
     "name": "stdout",
     "output_type": "stream",
     "text": [
      "h\n",
      "o\n"
     ]
    }
   ],
   "source": [
    "print('hello'[0])\n",
    "print('hello'[-1])"
   ]
  },
  {
   "cell_type": "code",
   "execution_count": 25,
   "id": "9eed5bfd",
   "metadata": {},
   "outputs": [
    {
     "name": "stdout",
     "output_type": "stream",
     "text": [
      "Kennette\n",
      "nnette James\n",
      "Kennette\n"
     ]
    }
   ],
   "source": [
    "name = 'Kennette James'\n",
    "print(name[:8])\n",
    "print(name[2:])\n",
    "print(name[0:8])"
   ]
  },
  {
   "cell_type": "code",
   "execution_count": 30,
   "id": "d84d8155",
   "metadata": {},
   "outputs": [
    {
     "name": "stdout",
     "output_type": "stream",
     "text": [
      "1234567890\n",
      "13579\n"
     ]
    }
   ],
   "source": [
    "num = '1234567890'\n",
    "print(num[::])  # From start to fin\n",
    "print(num[::2]) # Odd"
   ]
  },
  {
   "cell_type": "code",
   "execution_count": 32,
   "id": "682afbcf",
   "metadata": {},
   "outputs": [
    {
     "name": "stdout",
     "output_type": "stream",
     "text": [
      "0987654321\n",
      "{'Honey', 'Boobear'}\n"
     ]
    }
   ],
   "source": [
    "num = '1234567890'\n",
    "print(num[::-1])"
   ]
  },
  {
   "cell_type": "code",
   "execution_count": 39,
   "id": "ebae6f9d",
   "metadata": {},
   "outputs": [
    {
     "name": "stdout",
     "output_type": "stream",
     "text": [
      "zzzzzzzzzz\n"
     ]
    }
   ],
   "source": [
    "blink = 'z'\n",
    "sleep = blink * 10\n",
    "print(sleep)"
   ]
  },
  {
   "cell_type": "code",
   "execution_count": 53,
   "id": "84cdf81b",
   "metadata": {
    "scrolled": true
   },
   "outputs": [
    {
     "name": "stdout",
     "output_type": "stream",
     "text": [
      "ZZZZZZZZZZ\n",
      "['Kennette', 'James']\n"
     ]
    }
   ],
   "source": [
    "print(sleep.upper())\n",
    "print(name.split(' '))"
   ]
  },
  {
   "cell_type": "markdown",
   "id": "7d42b4fb",
   "metadata": {},
   "source": [
    "### Lists\n",
    "\n",
    "    - Mutable\n",
    "    - Ordered Sequence\n",
    "    - Mutation is in place (void return type)\n",
    "    "
   ]
  },
  {
   "cell_type": "code",
   "execution_count": 33,
   "id": "e7b61c46",
   "metadata": {},
   "outputs": [
    {
     "name": "stdout",
     "output_type": "stream",
     "text": [
      "['one', 2, 3.0, 'hello world']\n",
      "['one', 2, 3.0, '3']\n"
     ]
    }
   ],
   "source": [
    "myList = ['one', 2, 3.0]\n",
    "anotherList = ['hello world']\n",
    "combinedList = myList + anotherList\n",
    "appendedList = myList.append('3')\n",
    "print(combinedList)\n",
    "print(myList)"
   ]
  },
  {
   "cell_type": "code",
   "execution_count": 35,
   "id": "673f5645",
   "metadata": {},
   "outputs": [
    {
     "ename": "SyntaxError",
     "evalue": "invalid syntax (<ipython-input-35-f73ade5367dd>, line 8)",
     "output_type": "error",
     "traceback": [
      "\u001b[1;36m  File \u001b[1;32m\"<ipython-input-35-f73ade5367dd>\"\u001b[1;36m, line \u001b[1;32m8\u001b[0m\n\u001b[1;33m    print(number) print(number1)\u001b[0m\n\u001b[1;37m                  ^\u001b[0m\n\u001b[1;31mSyntaxError\u001b[0m\u001b[1;31m:\u001b[0m invalid syntax\n"
     ]
    }
   ],
   "source": [
    "letters = ['a','r','t','h','u','u','y','er']\n",
    "number = [3,4,5,123,23,32,1,1,5,8,1,99]\n",
    "number1 = ['3','4','5','123','23','32','1','1','5','8','1','99']\n",
    "letters.sort()\n",
    "number.sort()\n",
    "number1.sort()\n",
    "print(letters)\n",
    "print(number) \n",
    "print(number1)"
   ]
  }
 ],
 "metadata": {
  "kernelspec": {
   "display_name": "Python 3",
   "language": "python",
   "name": "python3"
  },
  "language_info": {
   "codemirror_mode": {
    "name": "ipython",
    "version": 3
   },
   "file_extension": ".py",
   "mimetype": "text/x-python",
   "name": "python",
   "nbconvert_exporter": "python",
   "pygments_lexer": "ipython3",
   "version": "3.8.8"
  }
 },
 "nbformat": 4,
 "nbformat_minor": 5
}
